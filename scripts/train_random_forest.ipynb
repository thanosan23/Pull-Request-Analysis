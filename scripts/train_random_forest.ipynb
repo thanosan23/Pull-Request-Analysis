{
 "cells": [
  {
   "cell_type": "code",
   "execution_count": 61,
   "id": "c2ab8a7a-429a-45b8-90a2-76287dad309c",
   "metadata": {},
   "outputs": [],
   "source": [
    "# import the libraries\n",
    "import pandas as pd\n",
    "import numpy as np\n",
    "\n",
    "from sklearn.preprocessing import LabelEncoder\n",
    "from sklearn.model_selection import train_test_split\n",
    "from sklearn.ensemble import RandomForestClassifier\n",
    "\n",
    "import polars as pl\n",
    "\n",
    "import xgboost as xgb"
   ]
  },
  {
   "cell_type": "code",
   "execution_count": 62,
   "id": "0a315cf6-9d67-48ce-b8a3-563c555a654a",
   "metadata": {},
   "outputs": [
    {
     "data": {
      "text/html": [
       "<div>\n",
       "<style scoped>\n",
       "    .dataframe tbody tr th:only-of-type {\n",
       "        vertical-align: middle;\n",
       "    }\n",
       "\n",
       "    .dataframe tbody tr th {\n",
       "        vertical-align: top;\n",
       "    }\n",
       "\n",
       "    .dataframe thead th {\n",
       "        text-align: right;\n",
       "    }\n",
       "</style>\n",
       "<table border=\"1\" class=\"dataframe\">\n",
       "  <thead>\n",
       "    <tr style=\"text-align: right;\">\n",
       "      <th></th>\n",
       "      <th>id</th>\n",
       "      <th>project_id</th>\n",
       "      <th>github_id</th>\n",
       "      <th>pull_request_id</th>\n",
       "      <th>ownername</th>\n",
       "      <th>reponame</th>\n",
       "      <th>merged_or_not</th>\n",
       "      <th>lifetime_minutes</th>\n",
       "      <th>mergetime_minutes</th>\n",
       "      <th>num_commits</th>\n",
       "      <th>...</th>\n",
       "      <th>other_files_open</th>\n",
       "      <th>src_churn_open</th>\n",
       "      <th>test_churn_open</th>\n",
       "      <th>code_churn_open</th>\n",
       "      <th>churn_addition_open</th>\n",
       "      <th>churn_deletion_open</th>\n",
       "      <th>code_chunk_num_open</th>\n",
       "      <th>commits_on_files_touched_close</th>\n",
       "      <th>test_inclusion_open</th>\n",
       "      <th>added_code</th>\n",
       "    </tr>\n",
       "  </thead>\n",
       "  <tbody>\n",
       "    <tr>\n",
       "      <th>0</th>\n",
       "      <td>1</td>\n",
       "      <td>13708387</td>\n",
       "      <td>1895</td>\n",
       "      <td>16946031</td>\n",
       "      <td>stylelint</td>\n",
       "      <td>stylelint</td>\n",
       "      <td>1</td>\n",
       "      <td>237</td>\n",
       "      <td>237.0</td>\n",
       "      <td>1</td>\n",
       "      <td>...</td>\n",
       "      <td>1</td>\n",
       "      <td>0</td>\n",
       "      <td>0</td>\n",
       "      <td>0</td>\n",
       "      <td>0</td>\n",
       "      <td>0</td>\n",
       "      <td>1</td>\n",
       "      <td>79</td>\n",
       "      <td>0</td>\n",
       "      <td>\"eslint\": \"~3.5.0\",</td>\n",
       "    </tr>\n",
       "    <tr>\n",
       "      <th>1</th>\n",
       "      <td>3</td>\n",
       "      <td>93139005</td>\n",
       "      <td>404</td>\n",
       "      <td>42975776</td>\n",
       "      <td>binary-com</td>\n",
       "      <td>SmartCharts</td>\n",
       "      <td>1</td>\n",
       "      <td>4</td>\n",
       "      <td>4.0</td>\n",
       "      <td>1</td>\n",
       "      <td>...</td>\n",
       "      <td>1</td>\n",
       "      <td>0</td>\n",
       "      <td>0</td>\n",
       "      <td>0</td>\n",
       "      <td>0</td>\n",
       "      <td>0</td>\n",
       "      <td>1</td>\n",
       "      <td>175</td>\n",
       "      <td>0</td>\n",
       "      <td>\"version\": \"0.2.1\",</td>\n",
       "    </tr>\n",
       "    <tr>\n",
       "      <th>2</th>\n",
       "      <td>4</td>\n",
       "      <td>15059440</td>\n",
       "      <td>3434</td>\n",
       "      <td>34700062</td>\n",
       "      <td>letsencrypt</td>\n",
       "      <td>boulder</td>\n",
       "      <td>1</td>\n",
       "      <td>52</td>\n",
       "      <td>52.0</td>\n",
       "      <td>1</td>\n",
       "      <td>...</td>\n",
       "      <td>0</td>\n",
       "      <td>9</td>\n",
       "      <td>104</td>\n",
       "      <td>113</td>\n",
       "      <td>110</td>\n",
       "      <td>3</td>\n",
       "      <td>2</td>\n",
       "      <td>24</td>\n",
       "      <td>1</td>\n",
       "      <td>\\t\\t} else if !strings.HasPrefix(name, \"*.\") {...</td>\n",
       "    </tr>\n",
       "    <tr>\n",
       "      <th>3</th>\n",
       "      <td>5</td>\n",
       "      <td>29684214</td>\n",
       "      <td>486</td>\n",
       "      <td>34175163</td>\n",
       "      <td>PyCQA</td>\n",
       "      <td>astroid</td>\n",
       "      <td>1</td>\n",
       "      <td>2414</td>\n",
       "      <td>2414.0</td>\n",
       "      <td>1</td>\n",
       "      <td>...</td>\n",
       "      <td>0</td>\n",
       "      <td>33</td>\n",
       "      <td>27</td>\n",
       "      <td>60</td>\n",
       "      <td>60</td>\n",
       "      <td>0</td>\n",
       "      <td>2</td>\n",
       "      <td>7</td>\n",
       "      <td>1</td>\n",
       "      <td>\\ndef numpy_core_numerictypes_transform():\\n  ...</td>\n",
       "    </tr>\n",
       "    <tr>\n",
       "      <th>4</th>\n",
       "      <td>6</td>\n",
       "      <td>79189935</td>\n",
       "      <td>379</td>\n",
       "      <td>37917551</td>\n",
       "      <td>compsy</td>\n",
       "      <td>vsv</td>\n",
       "      <td>1</td>\n",
       "      <td>91</td>\n",
       "      <td>91.0</td>\n",
       "      <td>1</td>\n",
       "      <td>...</td>\n",
       "      <td>0</td>\n",
       "      <td>26</td>\n",
       "      <td>0</td>\n",
       "      <td>26</td>\n",
       "      <td>11</td>\n",
       "      <td>15</td>\n",
       "      <td>3</td>\n",
       "      <td>13</td>\n",
       "      <td>0</td>\n",
       "      <td>let!(:responses) { [some_response, another_r...</td>\n",
       "    </tr>\n",
       "  </tbody>\n",
       "</table>\n",
       "<p>5 rows × 141 columns</p>\n",
       "</div>"
      ],
      "text/plain": [
       "   id  project_id  github_id  pull_request_id    ownername     reponame  \\\n",
       "0   1    13708387       1895         16946031    stylelint    stylelint   \n",
       "1   3    93139005        404         42975776   binary-com  SmartCharts   \n",
       "2   4    15059440       3434         34700062  letsencrypt      boulder   \n",
       "3   5    29684214        486         34175163        PyCQA      astroid   \n",
       "4   6    79189935        379         37917551       compsy          vsv   \n",
       "\n",
       "   merged_or_not  lifetime_minutes  mergetime_minutes  num_commits  ...  \\\n",
       "0              1               237              237.0            1  ...   \n",
       "1              1                 4                4.0            1  ...   \n",
       "2              1                52               52.0            1  ...   \n",
       "3              1              2414             2414.0            1  ...   \n",
       "4              1                91               91.0            1  ...   \n",
       "\n",
       "   other_files_open  src_churn_open  test_churn_open  code_churn_open  \\\n",
       "0                 1               0                0                0   \n",
       "1                 1               0                0                0   \n",
       "2                 0               9              104              113   \n",
       "3                 0              33               27               60   \n",
       "4                 0              26                0               26   \n",
       "\n",
       "   churn_addition_open  churn_deletion_open  code_chunk_num_open  \\\n",
       "0                    0                    0                    1   \n",
       "1                    0                    0                    1   \n",
       "2                  110                    3                    2   \n",
       "3                   60                    0                    2   \n",
       "4                   11                   15                    3   \n",
       "\n",
       "   commits_on_files_touched_close  test_inclusion_open  \\\n",
       "0                              79                    0   \n",
       "1                             175                    0   \n",
       "2                              24                    1   \n",
       "3                               7                    1   \n",
       "4                              13                    0   \n",
       "\n",
       "                                          added_code  \n",
       "0                                \"eslint\": \"~3.5.0\",  \n",
       "1                                \"version\": \"0.2.1\",  \n",
       "2  \\t\\t} else if !strings.HasPrefix(name, \"*.\") {...  \n",
       "3  \\ndef numpy_core_numerictypes_transform():\\n  ...  \n",
       "4    let!(:responses) { [some_response, another_r...  \n",
       "\n",
       "[5 rows x 141 columns]"
      ]
     },
     "execution_count": 62,
     "metadata": {},
     "output_type": "execute_result"
    }
   ],
   "source": [
    "# read the dataset\n",
    "data = pl.read_csv(\"../data/pullreq_with_code.csv\", truncate_ragged_lines=True).to_pandas()\n",
    "data.head()"
   ]
  },
  {
   "cell_type": "code",
   "execution_count": 63,
   "id": "81ebdcd6",
   "metadata": {},
   "outputs": [
    {
     "data": {
      "text/plain": [
       "contrib_gender\n",
       "male      54333\n",
       "female     5873\n",
       "Name: count, dtype: int64"
      ]
     },
     "execution_count": 63,
     "metadata": {},
     "output_type": "execute_result"
    }
   ],
   "source": [
    "data['contrib_gender'].value_counts()"
   ]
  },
  {
   "cell_type": "code",
   "execution_count": 64,
   "id": "b13f85ac",
   "metadata": {},
   "outputs": [
    {
     "name": "stdout",
     "output_type": "stream",
     "text": [
      "['stylelint' 'stylelint' 1895]\n",
      "['binary-com' 'SmartCharts' 404]\n",
      "['letsencrypt' 'boulder' 3434]\n",
      "['PyCQA' 'astroid' 486]\n",
      "['compsy' 'vsv' 379]\n"
     ]
    }
   ],
   "source": [
    "# drop the unwanted columns\n",
    "for i in data.iloc[:5, :][[ 'ownername', 'reponame', 'github_id']].values:\n",
    "    print(i)"
   ]
  },
  {
   "cell_type": "code",
   "execution_count": 65,
   "id": "3c5713b4-c2de-49aa-b89c-4e19fca9b819",
   "metadata": {},
   "outputs": [],
   "source": [
    "# remove accepted requests and remove data where gender is unknown\n",
    "rejected_data = data.loc[data['merged_or_not'] == 0]\n",
    "rejected_data = rejected_data.loc[rejected_data['contrib_gender'].notna()]"
   ]
  },
  {
   "cell_type": "code",
   "execution_count": 66,
   "id": "6db193fc-2094-4eb6-b1fc-7034cf6d8086",
   "metadata": {},
   "outputs": [
    {
     "data": {
      "text/plain": [
       "(8561, 141)"
      ]
     },
     "execution_count": 66,
     "metadata": {},
     "output_type": "execute_result"
    }
   ],
   "source": [
    "rejected_data.shape"
   ]
  },
  {
   "cell_type": "code",
   "execution_count": 67,
   "id": "336b96e9-a0e7-484d-b91d-7f5fb914d32e",
   "metadata": {},
   "outputs": [],
   "source": [
    "# drop columns that we do not need\n",
    "rejected_data = rejected_data.drop(['ownername', 'reponame', 'id', 'project_id', 'github_id', 'creator_id'], axis=1)"
   ]
  },
  {
   "cell_type": "code",
   "execution_count": 68,
   "id": "3d273311",
   "metadata": {},
   "outputs": [],
   "source": [
    "# characteristics are from the paper (https://yuyue.github.io/res/paper/newPR_MSR2020.pdf)\n",
    "# prepare characteristics to drop (contributor characteristics, project characteristics, are characteristics that the contributor cannot control)\n",
    "contributor_characteristics = ['acc_commit_num', 'first_pr', 'core_member', 'same_country', 'same_affiliation', 'contrib_open', 'contrib_cons', 'contrib_extra', 'contrib_agree', 'contrib_neur', 'inte_open', 'inte_cons', 'inte_extra', 'inte_neur', 'inte_agree', 'open_diff', 'cons_diff', 'extra_diff', 'agree_diff', 'neur_diff', 'social_strength', 'account_creation_days', 'prior_review_num', 'first_response_time', 'contrib_country', 'inte_country', 'prior_interaction', 'contrib_affiliation', 'inte_affiliation', 'contrib_first_emo', 'inte_first_emo', 'contrib_follow_integrator']\n",
    "project_characteristics = ['language', 'project_age', 'pushed_delta', 'pr_succ_rate', 'open_issue_num', 'open_pr_num', 'fork_num']\n",
    "unable_to_control = ['followers', 'part_num_issue', 'part_num_commit', 'part_num_pr', 'pr_comment_num', 'num_issue_comments', 'has_comments', 'has_participants', 'inte_comment', 'has_exchange', 'num_comments_con', 'first_close_minutes', 'num_issue_comments', 'num_participants', 'lifetime_minutes', 'ci_exists',  'reviewer_comment', 'contrib_comment', 'contrib_rate_author'] # features that contributor cannot control"
   ]
  },
  {
   "cell_type": "code",
   "execution_count": 69,
   "id": "f837ab85",
   "metadata": {},
   "outputs": [],
   "source": [
    "# drop unwanted characteristics\n",
    "rejected_data.drop(contributor_characteristics, axis=1, inplace=True)\n",
    "rejected_data.drop(project_characteristics, axis=1, inplace=True)\n",
    "rejected_data.drop(unable_to_control, axis=1, inplace=True)"
   ]
  },
  {
   "cell_type": "code",
   "execution_count": 70,
   "id": "d963c2b9",
   "metadata": {},
   "outputs": [
    {
     "data": {
      "text/plain": [
       "(8561, 78)"
      ]
     },
     "execution_count": 70,
     "metadata": {},
     "output_type": "execute_result"
    }
   ],
   "source": [
    "rejected_data.shape"
   ]
  },
  {
   "cell_type": "code",
   "execution_count": 71,
   "id": "2c552f2c-8114-47aa-80e3-739d1b862bd6",
   "metadata": {},
   "outputs": [],
   "source": [
    "# label encode the contrib_gender column to 0 and 1\n",
    "le = LabelEncoder()\n",
    "le.fit(rejected_data['contrib_gender'])\n",
    "rejected_data['contrib_gender'] = le.transform(rejected_data['contrib_gender'])"
   ]
  },
  {
   "cell_type": "code",
   "execution_count": 72,
   "id": "e2a47c5a-5972-4f2c-a6c7-a35348b008c8",
   "metadata": {},
   "outputs": [],
   "source": [
    "# encode all the columns that are not numerical, and save their label encoders\n",
    "encoders = { 'contrib_gender' : le }\n",
    "for column in rejected_data.select_dtypes(include=['object']).columns:\n",
    "    le_col = LabelEncoder()\n",
    "    le_col.fit(rejected_data[column])\n",
    "    rejected_data[column] = le_col.transform(rejected_data[column])\n",
    "    encoders[column] = le_col"
   ]
  },
  {
   "cell_type": "code",
   "execution_count": 73,
   "id": "62b23236",
   "metadata": {},
   "outputs": [
    {
     "data": {
      "text/plain": [
       "9        1\n",
       "16       1\n",
       "49       1\n",
       "53       0\n",
       "55       1\n",
       "        ..\n",
       "75849    1\n",
       "75854    1\n",
       "75855    1\n",
       "75883    1\n",
       "75898    1\n",
       "Name: contrib_gender, Length: 8561, dtype: int64"
      ]
     },
     "execution_count": 73,
     "metadata": {},
     "output_type": "execute_result"
    }
   ],
   "source": [
    "rejected_data['contrib_gender']"
   ]
  },
  {
   "cell_type": "code",
   "execution_count": 74,
   "id": "44ec7991",
   "metadata": {},
   "outputs": [
    {
     "data": {
      "image/png": "[encoded data removed]",
      "text/plain": [
       "<Figure size 1000x800 with 1 Axes>"
      ]
     },
     "metadata": {},
     "output_type": "display_data"
    }
   ],
   "source": [
    "import matplotlib.pyplot as plt\n",
    "\n",
    "# Calculate correlations using Spearman's rank correlation\n",
    "correlation_data = rejected_data.drop(['merged_or_not'], axis=1)\n",
    "corr = correlation_data.corr(method='spearman')\n",
    "correlation = corr['contrib_gender']\n",
    "\n",
    "# Sort correlations by value, excluding 'contrib_gender' and negative correlations\n",
    "sorted_correlations = sorted([(k, v) for k, v in correlation.items() if k != 'contrib_gender' and v > 0], key=lambda x: -x[1])\n",
    "\n",
    "# Get the top 10 features\n",
    "top_10_features = sorted_correlations[:10]\n",
    "\n",
    "# Convert the features and their correlations to a DataFrame\n",
    "df = pd.DataFrame(top_10_features, columns=['Feature', 'Correlation'])\n",
    "\n",
    "# Sort the DataFrame by correlation\n",
    "df = df.sort_values('Correlation', ascending=True)\n",
    "\n",
    "# Plot the correlations\n",
    "plt.figure(figsize=(10, 8))\n",
    "plt.barh(df['Feature'], df['Correlation'])\n",
    "plt.xlabel('Feature Importance')\n",
    "plt.ylabel('Feature')\n",
    "plt.title('Top 10 Features Positively Correlated with contrib_gender')\n",
    "plt.show()"
   ]
  },
  {
   "cell_type": "code",
   "execution_count": 75,
   "id": "36273ac0",
   "metadata": {},
   "outputs": [
    {
     "data": {
      "text/plain": [
       "[('contrib_gender', 1.0),\n",
       " ('pull_request_id', -0.0767021343332833),\n",
       " ('mergetime_minutes', nan),\n",
       " ('perc_contrib_neu_emo', 0.045096281096575014),\n",
       " ('perc_neu_emotion', 0.04317706794869777),\n",
       " ('num_comments', 0.03994948577637724),\n",
       " ('perc_neg_emotion', 0.0361993829371676),\n",
       " ('bug_fix', 0.0319254552763849),\n",
       " ('asserts_per_kloc', 0.03166925955684892),\n",
       " ('perc_contrib_neg_emo', 0.028166510517095577),\n",
       " ('perc_inte_neg_emo', 0.02447773980748406),\n",
       " ('commits_on_files_touched_close', 0.022525581136815312),\n",
       " ('commits_on_files_touched', 0.02236156211317068),\n",
       " ('test_cases_per_kloc', 0.022353620240929),\n",
       " ('test_lines_per_kloc', 0.021909759080292374),\n",
       " ('watchers', 0.021173757042176902),\n",
       " ('ci_latency', 0.02016065071126624),\n",
       " ('files_modified_open', 0.019769681303247688),\n",
       " ('ci_test_passed', 0.018965514944050826),\n",
       " ('code_churn_open', 0.018850013580914513),\n",
       " ('churn_deletion', 0.018352348966557547),\n",
       " ('churn_deletion_open', 0.01772372795059077),\n",
       " ('churn_addition_open', 0.016610422412943665),\n",
       " ('src_churn_open', 0.016347080580246375),\n",
       " ('files_modified', 0.01631813226978052),\n",
       " ('churn_addition', 0.015768871043287974),\n",
       " ('num_commit_comments', 0.01565437439586623),\n",
       " ('src_churn', 0.01562680373075774),\n",
       " ('ci_build_num', 0.014960156445012215),\n",
       " ('prev_pullreqs', 0.014900957740535532),\n",
       " ('description_length', 0.013917277394487313),\n",
       " ('perc_inte_neu_emo', 0.013810255087490042),\n",
       " ('at_tag', 0.013507579733688836),\n",
       " ('test_churn', 0.013177557093223633),\n",
       " ('src_files_open', 0.013019927534573594),\n",
       " ('code_chunk_num_open', 0.012524515633546425),\n",
       " ('src_files', 0.011901841447089724),\n",
       " ('test_churn_open', 0.011085727797849481),\n",
       " ('perc_pos_emotion', 0.007644147612227905),\n",
       " ('integrator_availability', 0.00691205217507793),\n",
       " ('ci_failed_perc', 0.006813165446209995),\n",
       " ('perc_inte_pos_emo', 0.006328791131036248),\n",
       " ('test_inclusion_open', 0.004890949145174141),\n",
       " ('test_inclusion', 0.004095676531634853),\n",
       " ('last_close_time', 0.003953737284901945),\n",
       " ('comment_conflict', 0.0031187808401062153),\n",
       " ('num_code_comments_con', 0.002542478500971513),\n",
       " ('num_code_comments', 0.0005645708693431654),\n",
       " ('part_num_code', -0.00027714641934734123),\n",
       " ('friday_effect', -0.0009745915834680386),\n",
       " ('ci_first_build_status', -0.0017533139134173579),\n",
       " ('ci_last_build_status', -0.002184352046224873),\n",
       " ('hash_tag', -0.002500546686686368),\n",
       " ('sloc', -0.002728684600355504),\n",
       " ('other_comment', -0.003683792490046601),\n",
       " ('files_changed', -0.004116257057413397),\n",
       " ('files_changed_open', -0.004181591921070099),\n",
       " ('same_user', -0.0045997118054226386),\n",
       " ('reopen_or_not', -0.004701407829616136),\n",
       " ('reopen_num', -0.0047422213093494675),\n",
       " ('perc_contrib_pos_emo', -0.00475251073308402),\n",
       " ('doc_files', -0.007021672954161341),\n",
       " ('doc_files_open', -0.007172050707338908),\n",
       " ('requester_succ_rate', -0.009221332265451444),\n",
       " ('files_deleted_open', -0.011348365808583236),\n",
       " ('added_code', -0.01618426089168008),\n",
       " ('num_commits_open', -0.016455848190772438),\n",
       " ('files_added', -0.019217088435286838),\n",
       " ('other_files', -0.019252275602619183),\n",
       " ('perc_external_contribs', -0.021030936085338348),\n",
       " ('files_deleted', -0.02112685140206983),\n",
       " ('num_commits', -0.021499156863994867),\n",
       " ('files_added_open', -0.02259429071933554),\n",
       " ('other_files_open', -0.02495651797151366),\n",
       " ('team_size', -0.028608728806948657),\n",
       " ('first_closer_id', -0.11151721744595285),\n",
       " ('last_closer_id', -0.111868198330951)]"
      ]
     },
     "execution_count": 75,
     "metadata": {},
     "output_type": "execute_result"
    }
   ],
   "source": [
    "# find correlation to see which features are important\n",
    "correlation_data = rejected_data.drop(['merged_or_not'], axis=1)\n",
    "\n",
    "# Use Spearman's rank correlation coefficient instead of Pearson's\n",
    "corr = correlation_data.corr(method='spearman')\n",
    "\n",
    "correlation = corr['contrib_gender']\n",
    "sorted(correlation.items(), key=lambda x: -x[1])"
   ]
  },
  {
   "cell_type": "code",
   "execution_count": 76,
   "id": "60e35075-2a70-48aa-90cb-f52224f58249",
   "metadata": {},
   "outputs": [],
   "source": [
    "# chose features that have correlation greater than 0.02\n",
    "threshold = 0.02 # moderate relationship or higher\n",
    "high_correlation = list(filter(lambda x : x[1] >= threshold, sorted(correlation.items(), key=lambda x: -x[1])))\n",
    "high_correlation_feat = list(map(lambda x : x[0], high_correlation))\n",
    "high_correlation_feat.remove('contrib_gender')"
   ]
  },
  {
   "cell_type": "code",
   "execution_count": 77,
   "id": "71cc07e4-9c91-415d-a497-039909bcd7d0",
   "metadata": {},
   "outputs": [
    {
     "name": "stdout",
     "output_type": "stream",
     "text": [
      "['perc_contrib_neu_emo', 'perc_neu_emotion', 'num_comments', 'perc_neg_emotion', 'bug_fix', 'asserts_per_kloc', 'perc_contrib_neg_emo', 'perc_inte_neg_emo', 'commits_on_files_touched_close', 'commits_on_files_touched', 'test_cases_per_kloc', 'test_lines_per_kloc', 'watchers', 'ci_latency']\n"
     ]
    }
   ],
   "source": [
    "# get data and clean up data by removing n/a values\n",
    "features = high_correlation_feat\n",
    "print(features)\n",
    "# features = ['account_creation_days',  'contrib_open',  'part_num_issue',  'perc_neu_emotion',  'num_participants',  'perc_pos_emotion',  'ci_test_passed',  'asserts_per_kloc',  'followers',  'num_issue_comments',  'perc_neg_emotion',  'lifetime_minutes',  'test_inclusion',  'ci_exists',  'acc_commit_num',  'core_member',  'num_comments',  'at_tag',  'pushed_delta',  'part_num_commit',  'first_response_time',  'ci_latency',  'project_age',  'ci_build_num',  'first_pr',  'hash_tag',  'test_churn',  'num_commit_comments',  'comment_conflict',  'prev_pullreqs',  'bug_fix',  'churn_deletion',  'has_comments',  'has_participants',  'reviewer_comment',  'contrib_comment',  'inte_comment',  'has_exchange',  'same_country',  'perc_contrib_neu_emo',  'social_strength',  'agree_diff',  'contrib_rate_author',  'inte_open',  'contrib_follow_integrator',  'extra_diff',  'num_comments_con',  'first_close_minutes',  'perc_inte_pos_emo',  'neur_diff',  'perc_contrib_neg_emo',  'perc_inte_neu_emo',  'cons_diff',  'same_affiliation',  'test_inclusion_open',  'perc_inte_neg_emo',  'num_code_comments_con',  'friday_effect',  'test_churn_open',  'other_comment',  'perc_contrib_pos_emo',  'integrator_availability',  'churn_deletion_open']\n",
    "rejected_data_cleaned = rejected_data[[*features, 'contrib_gender']].dropna()\n",
    "X = rejected_data_cleaned[features]\n",
    "y = rejected_data_cleaned['contrib_gender']"
   ]
  },
  {
   "cell_type": "code",
   "execution_count": 78,
   "id": "c008d55b-ef39-4c94-b6fc-3139e8753e03",
   "metadata": {},
   "outputs": [
    {
     "data": {
      "text/plain": [
       "(5553, 15)"
      ]
     },
     "execution_count": 78,
     "metadata": {},
     "output_type": "execute_result"
    }
   ],
   "source": [
    "rejected_data_cleaned.shape"
   ]
  },
  {
   "cell_type": "code",
   "execution_count": 79,
   "id": "e11fc17c",
   "metadata": {},
   "outputs": [
    {
     "data": {
      "text/plain": [
       "0.8595438175270108"
      ]
     },
     "execution_count": 79,
     "metadata": {},
     "output_type": "execute_result"
    }
   ],
   "source": [
    "from sklearn.model_selection import train_test_split\n",
    "from imblearn.over_sampling import SMOTE\n",
    "from xgboost import XGBClassifier\n",
    "\n",
    "# split into train test val split\n",
    "train_ratio = 0.70\n",
    "test_ratio = 0.30\n",
    "\n",
    "X_train, X_test, y_train, y_test = train_test_split(X, y, test_size=1-train_ratio)\n",
    "\n",
    "# Create a SMOTE object\n",
    "smote = SMOTE()\n",
    "\n",
    "# Fit the SMOTE object to the training data\n",
    "X_train_resampled, y_train_resampled = smote.fit_resample(X_train, y_train)\n",
    "\n",
    "# train the XGBoost classifier model on the balanced training data\n",
    "clf = XGBClassifier(use_label_encoder=False, eval_metric='logloss')\n",
    "clf = clf.fit(X_train_resampled, y_train_resampled)\n",
    "clf.score(X_test, y_test)"
   ]
  },
  {
   "cell_type": "code",
   "execution_count": 80,
   "id": "1c634612",
   "metadata": {},
   "outputs": [
    {
     "name": "stdout",
     "output_type": "stream",
     "text": [
      "fit_time: 0.07707271575927735\n",
      "score_time: 0.006250238418579102\n",
      "test_accuracy: 0.8982526901338781\n",
      "test_precision: 0.9067394343516186\n",
      "test_recall: 0.9894651949277522\n",
      "test_f1_score: 0.9462962502085374\n",
      "test_roc_auc_score: 0.5043021945334731\n"
     ]
    }
   ],
   "source": [
    "from sklearn.model_selection import cross_validate\n",
    "from sklearn.metrics import make_scorer, accuracy_score, precision_score, recall_score, f1_score, roc_auc_score\n",
    "\n",
    "# Assuming 'clf' is your XGBoost model and 'X' and 'y' are your data\n",
    "scoring = {'accuracy' : make_scorer(accuracy_score), \n",
    "           'precision' : make_scorer(precision_score),\n",
    "           'recall' : make_scorer(recall_score), \n",
    "           'f1_score' : make_scorer(f1_score),\n",
    "           'roc_auc_score' : make_scorer(roc_auc_score)}\n",
    "\n",
    "results = cross_validate(clf, X, y, cv=5, scoring=scoring)\n",
    "\n",
    "# Print each metric for each fold\n",
    "for metric_name, scores in results.items():\n",
    "    print(f\"{metric_name}: {scores.mean()}\")"
   ]
  },
  {
   "cell_type": "code",
   "execution_count": 81,
   "id": "17ac10b2",
   "metadata": {},
   "outputs": [
    {
     "data": {
      "image/png": "[encoded data removed]",
      "text/plain": [
       "<Figure size 1000x700 with 2 Axes>"
      ]
     },
     "metadata": {},
     "output_type": "display_data"
    }
   ],
   "source": [
    "from sklearn.metrics import confusion_matrix\n",
    "import seaborn as sns\n",
    "import matplotlib.pyplot as plt\n",
    "\n",
    "# Get the model's predictions for the test set\n",
    "y_pred = clf.predict(X)\n",
    "\n",
    "# Calculate the confusion matrix\n",
    "cm = confusion_matrix(y, y_pred)\n",
    "\n",
    "# Plot the confusion matrix\n",
    "plt.figure(figsize=(10, 7))\n",
    "sns.heatmap(cm, annot=True, fmt='d')\n",
    "plt.title('Confusion Matrix')\n",
    "plt.xlabel('Predicted')\n",
    "plt.ylabel('Actual')\n",
    "\n",
    "# Replace the labels\n",
    "labels = ['Male', 'Female']\n",
    "plt.xticks([0.5, 1.5], labels)\n",
    "plt.yticks([0.5, 1.5], labels)\n",
    "\n",
    "plt.show()"
   ]
  }
 ],
 "metadata": {
  "kernelspec": {
   "display_name": "Python 3",
   "language": "python",
   "name": "python3"
  },
  "language_info": {
   "codemirror_mode": {
    "name": "ipython",
    "version": 3
   },
   "file_extension": ".py",
   "mimetype": "text/x-python",
   "name": "python",
   "nbconvert_exporter": "python",
   "pygments_lexer": "ipython3",
   "version": "3.11.7"
  }
 },
 "nbformat": 4,
 "nbformat_minor": 5
}
