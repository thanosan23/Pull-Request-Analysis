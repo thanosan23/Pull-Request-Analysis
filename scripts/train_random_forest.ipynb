{
 "cells": [
  {
   "cell_type": "code",
   "execution_count": 1,
   "id": "c2ab8a7a-429a-45b8-90a2-76287dad309c",
   "metadata": {},
   "outputs": [],
   "source": [
    "# import the libraries\n",
    "import pandas as pd\n",
    "import numpy as np\n",
    "\n",
    "from sklearn.preprocessing import LabelEncoder\n",
    "from sklearn.model_selection import train_test_split\n",
    "from sklearn.ensemble import RandomForestClassifier\n",
    "\n",
    "import polars as pl\n",
    "\n",
    "import xgboost as xgb"
   ]
  },
  {
   "cell_type": "code",
   "execution_count": 2,
   "id": "0a315cf6-9d67-48ce-b8a3-563c555a654a",
   "metadata": {},
   "outputs": [
    {
     "data": {
      "text/html": [
       "<div>\n",
       "<style scoped>\n",
       "    .dataframe tbody tr th:only-of-type {\n",
       "        vertical-align: middle;\n",
       "    }\n",
       "\n",
       "    .dataframe tbody tr th {\n",
       "        vertical-align: top;\n",
       "    }\n",
       "\n",
       "    .dataframe thead th {\n",
       "        text-align: right;\n",
       "    }\n",
       "</style>\n",
       "<table border=\"1\" class=\"dataframe\">\n",
       "  <thead>\n",
       "    <tr style=\"text-align: right;\">\n",
       "      <th></th>\n",
       "      <th>id</th>\n",
       "      <th>project_id</th>\n",
       "      <th>github_id</th>\n",
       "      <th>pull_request_id</th>\n",
       "      <th>ownername</th>\n",
       "      <th>reponame</th>\n",
       "      <th>merged_or_not</th>\n",
       "      <th>lifetime_minutes</th>\n",
       "      <th>mergetime_minutes</th>\n",
       "      <th>num_commits</th>\n",
       "      <th>...</th>\n",
       "      <th>doc_files_open</th>\n",
       "      <th>other_files_open</th>\n",
       "      <th>src_churn_open</th>\n",
       "      <th>test_churn_open</th>\n",
       "      <th>code_churn_open</th>\n",
       "      <th>churn_addition_open</th>\n",
       "      <th>churn_deletion_open</th>\n",
       "      <th>code_chunk_num_open</th>\n",
       "      <th>commits_on_files_touched_close</th>\n",
       "      <th>test_inclusion_open</th>\n",
       "    </tr>\n",
       "  </thead>\n",
       "  <tbody>\n",
       "    <tr>\n",
       "      <th>0</th>\n",
       "      <td>1</td>\n",
       "      <td>13708387</td>\n",
       "      <td>1895</td>\n",
       "      <td>16946031</td>\n",
       "      <td>stylelint</td>\n",
       "      <td>stylelint</td>\n",
       "      <td>1</td>\n",
       "      <td>237</td>\n",
       "      <td>237.0</td>\n",
       "      <td>1</td>\n",
       "      <td>...</td>\n",
       "      <td>0</td>\n",
       "      <td>1</td>\n",
       "      <td>0</td>\n",
       "      <td>0</td>\n",
       "      <td>0</td>\n",
       "      <td>0</td>\n",
       "      <td>0</td>\n",
       "      <td>1</td>\n",
       "      <td>79</td>\n",
       "      <td>0</td>\n",
       "    </tr>\n",
       "    <tr>\n",
       "      <th>1</th>\n",
       "      <td>2</td>\n",
       "      <td>100297899</td>\n",
       "      <td>353</td>\n",
       "      <td>51228565</td>\n",
       "      <td>Joaogarciadelima</td>\n",
       "      <td>checklistos</td>\n",
       "      <td>0</td>\n",
       "      <td>1410</td>\n",
       "      <td>NaN</td>\n",
       "      <td>1</td>\n",
       "      <td>...</td>\n",
       "      <td>0</td>\n",
       "      <td>0</td>\n",
       "      <td>0</td>\n",
       "      <td>0</td>\n",
       "      <td>0</td>\n",
       "      <td>0</td>\n",
       "      <td>0</td>\n",
       "      <td>1</td>\n",
       "      <td>38</td>\n",
       "      <td>0</td>\n",
       "    </tr>\n",
       "    <tr>\n",
       "      <th>2</th>\n",
       "      <td>3</td>\n",
       "      <td>93139005</td>\n",
       "      <td>404</td>\n",
       "      <td>42975776</td>\n",
       "      <td>binary-com</td>\n",
       "      <td>SmartCharts</td>\n",
       "      <td>1</td>\n",
       "      <td>4</td>\n",
       "      <td>4.0</td>\n",
       "      <td>1</td>\n",
       "      <td>...</td>\n",
       "      <td>0</td>\n",
       "      <td>1</td>\n",
       "      <td>0</td>\n",
       "      <td>0</td>\n",
       "      <td>0</td>\n",
       "      <td>0</td>\n",
       "      <td>0</td>\n",
       "      <td>1</td>\n",
       "      <td>175</td>\n",
       "      <td>0</td>\n",
       "    </tr>\n",
       "    <tr>\n",
       "      <th>3</th>\n",
       "      <td>4</td>\n",
       "      <td>15059440</td>\n",
       "      <td>3434</td>\n",
       "      <td>34700062</td>\n",
       "      <td>letsencrypt</td>\n",
       "      <td>boulder</td>\n",
       "      <td>1</td>\n",
       "      <td>52</td>\n",
       "      <td>52.0</td>\n",
       "      <td>1</td>\n",
       "      <td>...</td>\n",
       "      <td>0</td>\n",
       "      <td>0</td>\n",
       "      <td>9</td>\n",
       "      <td>104</td>\n",
       "      <td>113</td>\n",
       "      <td>110</td>\n",
       "      <td>3</td>\n",
       "      <td>2</td>\n",
       "      <td>24</td>\n",
       "      <td>1</td>\n",
       "    </tr>\n",
       "    <tr>\n",
       "      <th>4</th>\n",
       "      <td>5</td>\n",
       "      <td>29684214</td>\n",
       "      <td>486</td>\n",
       "      <td>34175163</td>\n",
       "      <td>PyCQA</td>\n",
       "      <td>astroid</td>\n",
       "      <td>1</td>\n",
       "      <td>2414</td>\n",
       "      <td>2414.0</td>\n",
       "      <td>1</td>\n",
       "      <td>...</td>\n",
       "      <td>0</td>\n",
       "      <td>0</td>\n",
       "      <td>33</td>\n",
       "      <td>27</td>\n",
       "      <td>60</td>\n",
       "      <td>60</td>\n",
       "      <td>0</td>\n",
       "      <td>2</td>\n",
       "      <td>7</td>\n",
       "      <td>1</td>\n",
       "    </tr>\n",
       "  </tbody>\n",
       "</table>\n",
       "<p>5 rows × 140 columns</p>\n",
       "</div>"
      ],
      "text/plain": [
       "   id  project_id  github_id  pull_request_id         ownername     reponame  \\\n",
       "0   1    13708387       1895         16946031         stylelint    stylelint   \n",
       "1   2   100297899        353         51228565  Joaogarciadelima  checklistos   \n",
       "2   3    93139005        404         42975776        binary-com  SmartCharts   \n",
       "3   4    15059440       3434         34700062       letsencrypt      boulder   \n",
       "4   5    29684214        486         34175163             PyCQA      astroid   \n",
       "\n",
       "   merged_or_not  lifetime_minutes  mergetime_minutes  num_commits  ...  \\\n",
       "0              1               237              237.0            1  ...   \n",
       "1              0              1410                NaN            1  ...   \n",
       "2              1                 4                4.0            1  ...   \n",
       "3              1                52               52.0            1  ...   \n",
       "4              1              2414             2414.0            1  ...   \n",
       "\n",
       "   doc_files_open  other_files_open  src_churn_open  test_churn_open  \\\n",
       "0               0                 1               0                0   \n",
       "1               0                 0               0                0   \n",
       "2               0                 1               0                0   \n",
       "3               0                 0               9              104   \n",
       "4               0                 0              33               27   \n",
       "\n",
       "   code_churn_open  churn_addition_open  churn_deletion_open  \\\n",
       "0                0                    0                    0   \n",
       "1                0                    0                    0   \n",
       "2                0                    0                    0   \n",
       "3              113                  110                    3   \n",
       "4               60                   60                    0   \n",
       "\n",
       "   code_chunk_num_open  commits_on_files_touched_close  test_inclusion_open  \n",
       "0                    1                              79                    0  \n",
       "1                    1                              38                    0  \n",
       "2                    1                             175                    0  \n",
       "3                    2                              24                    1  \n",
       "4                    2                               7                    1  \n",
       "\n",
       "[5 rows x 140 columns]"
      ]
     },
     "execution_count": 2,
     "metadata": {},
     "output_type": "execute_result"
    }
   ],
   "source": [
    "# read the dataset\n",
    "data = pl.read_csv(\"../data/new_pullreq.csv\").to_pandas()\n",
    "data.head()"
   ]
  },
  {
   "cell_type": "code",
   "execution_count": 3,
   "id": "b13f85ac",
   "metadata": {},
   "outputs": [
    {
     "name": "stdout",
     "output_type": "stream",
     "text": [
      "['stylelint' 'stylelint' 1895]\n",
      "['Joaogarciadelima' 'checklistos' 353]\n",
      "['binary-com' 'SmartCharts' 404]\n",
      "['letsencrypt' 'boulder' 3434]\n",
      "['PyCQA' 'astroid' 486]\n"
     ]
    }
   ],
   "source": [
    "# drop the unwanted columns\n",
    "for i in data.iloc[:5, :][[ 'ownername', 'reponame', 'github_id']].values:\n",
    "    print(i)"
   ]
  },
  {
   "cell_type": "code",
   "execution_count": 4,
   "id": "3c5713b4-c2de-49aa-b89c-4e19fca9b819",
   "metadata": {},
   "outputs": [],
   "source": [
    "# remove accepted requests and remove data where gender is unknown\n",
    "rejected_data = data.loc[data['merged_or_not'] == 0]\n",
    "rejected_data = rejected_data.loc[rejected_data['contrib_gender'].notna()]"
   ]
  },
  {
   "cell_type": "code",
   "execution_count": 5,
   "id": "6db193fc-2094-4eb6-b1fc-7034cf6d8086",
   "metadata": {},
   "outputs": [
    {
     "data": {
      "text/plain": [
       "(364116, 140)"
      ]
     },
     "execution_count": 5,
     "metadata": {},
     "output_type": "execute_result"
    }
   ],
   "source": [
    "rejected_data.shape"
   ]
  },
  {
   "cell_type": "code",
   "execution_count": 6,
   "id": "336b96e9-a0e7-484d-b91d-7f5fb914d32e",
   "metadata": {},
   "outputs": [],
   "source": [
    "# drop columns that we do not need\n",
    "rejected_data = rejected_data.drop(['ownername', 'reponame', 'id', 'project_id', 'github_id', 'creator_id'], axis=1)"
   ]
  },
  {
   "cell_type": "code",
   "execution_count": 7,
   "id": "3d273311",
   "metadata": {},
   "outputs": [],
   "source": [
    "# characteristics are from the paper (https://yuyue.github.io/res/paper/newPR_MSR2020.pdf)\n",
    "# prepare characteristics to drop (contributor characteristics, project characteristics, are characteristics that the contributor cannot control)\n",
    "contributor_characteristics = ['acc_commit_num', 'first_pr', 'core_member', 'same_country', 'same_affiliation', 'contrib_open', 'contrib_cons', 'contrib_extra', 'contrib_agree', 'contrib_neur', 'inte_open', 'inte_cons', 'inte_extra', 'inte_neur', 'inte_agree', 'open_diff', 'cons_diff', 'extra_diff', 'agree_diff', 'neur_diff', 'social_strength', 'account_creation_days', 'prior_review_num', 'first_response_time', 'contrib_country', 'inte_country', 'prior_interaction', 'contrib_affiliation', 'inte_affiliation', 'contrib_first_emo', 'inte_first_emo', 'contrib_follow_integrator']\n",
    "project_characteristics = ['language', 'project_age', 'pushed_delta', 'pr_succ_rate', 'open_issue_num', 'open_pr_num', 'fork_num']\n",
    "unable_to_control = ['followers', 'part_num_issue', 'part_num_commit', 'part_num_pr', 'pr_comment_num', 'num_issue_comments', 'has_comments', 'has_participants', 'inte_comment', 'has_exchange', 'num_comments_con', 'first_close_minutes', 'num_issue_comments', 'num_participants', 'lifetime_minutes', 'ci_exists',  'reviewer_comment', 'contrib_comment', 'contrib_rate_author'] # features that contributor cannot control"
   ]
  },
  {
   "cell_type": "code",
   "execution_count": 8,
   "id": "f837ab85",
   "metadata": {},
   "outputs": [],
   "source": [
    "# drop unwanted characteristics\n",
    "rejected_data.drop(contributor_characteristics, axis=1, inplace=True)\n",
    "rejected_data.drop(project_characteristics, axis=1, inplace=True)\n",
    "rejected_data.drop(unable_to_control, axis=1, inplace=True)"
   ]
  },
  {
   "cell_type": "code",
   "execution_count": 9,
   "id": "d963c2b9",
   "metadata": {},
   "outputs": [
    {
     "data": {
      "text/plain": [
       "(364116, 77)"
      ]
     },
     "execution_count": 9,
     "metadata": {},
     "output_type": "execute_result"
    }
   ],
   "source": [
    "rejected_data.shape"
   ]
  },
  {
   "cell_type": "code",
   "execution_count": null,
   "id": "2c552f2c-8114-47aa-80e3-739d1b862bd6",
   "metadata": {},
   "outputs": [],
   "source": [
    "# label encode the contrib_gender column to 0 and 1\n",
    "le = LabelEncoder()\n",
    "le.fit(rejected_data['contrib_gender'])\n",
    "rejected_data['contrib_gender'] = le.transform(rejected_data['contrib_gender'])"
   ]
  },
  {
   "cell_type": "code",
   "execution_count": null,
   "id": "e2a47c5a-5972-4f2c-a6c7-a35348b008c8",
   "metadata": {},
   "outputs": [],
   "source": [
    "# encode all the columns that are not numerical, and save their label encoders\n",
    "encoders = { 'contrib_gender' : le }\n",
    "for column in rejected_data.select_dtypes(include=['object']).columns:\n",
    "    le_col = LabelEncoder()\n",
    "    le_col.fit(rejected_data[column])\n",
    "    rejected_data[column] = le_col.transform(rejected_data[column])\n",
    "    encoders[column] = le_col"
   ]
  },
  {
   "cell_type": "code",
   "execution_count": null,
   "id": "e98f2561-892f-4751-be6d-47f782d5bc8b",
   "metadata": {},
   "outputs": [],
   "source": [
    "# find correlation to see which features are important\n",
    "correlation_data = rejected_data.drop(['merged_or_not'], axis=1)\n",
    "corr = correlation_data.corr()\n",
    "correlation = corr['contrib_gender']\n",
    "sorted(correlation.items(), key=lambda x: -x[1])"
   ]
  },
  {
   "cell_type": "code",
   "execution_count": null,
   "id": "60e35075-2a70-48aa-90cb-f52224f58249",
   "metadata": {},
   "outputs": [],
   "source": [
    "# chose features that have correlation greater than 0.02\n",
    "threshold = 0.02\n",
    "high_correlation = list(filter(lambda x : x[1] >= threshold, sorted(correlation.items(), key=lambda x: -x[1])))\n",
    "high_correlation_feat = list(map(lambda x : x[0], high_correlation))\n",
    "high_correlation_feat.remove('contrib_gender')"
   ]
  },
  {
   "cell_type": "code",
   "execution_count": null,
   "id": "71cc07e4-9c91-415d-a497-039909bcd7d0",
   "metadata": {},
   "outputs": [],
   "source": [
    "# get data and clean up data by removing n/a values\n",
    "features = high_correlation_feat\n",
    "print(features)\n",
    "# features = ['account_creation_days',  'contrib_open',  'part_num_issue',  'perc_neu_emotion',  'num_participants',  'perc_pos_emotion',  'ci_test_passed',  'asserts_per_kloc',  'followers',  'num_issue_comments',  'perc_neg_emotion',  'lifetime_minutes',  'test_inclusion',  'ci_exists',  'acc_commit_num',  'core_member',  'num_comments',  'at_tag',  'pushed_delta',  'part_num_commit',  'first_response_time',  'ci_latency',  'project_age',  'ci_build_num',  'first_pr',  'hash_tag',  'test_churn',  'num_commit_comments',  'comment_conflict',  'prev_pullreqs',  'bug_fix',  'churn_deletion',  'has_comments',  'has_participants',  'reviewer_comment',  'contrib_comment',  'inte_comment',  'has_exchange',  'same_country',  'perc_contrib_neu_emo',  'social_strength',  'agree_diff',  'contrib_rate_author',  'inte_open',  'contrib_follow_integrator',  'extra_diff',  'num_comments_con',  'first_close_minutes',  'perc_inte_pos_emo',  'neur_diff',  'perc_contrib_neg_emo',  'perc_inte_neu_emo',  'cons_diff',  'same_affiliation',  'test_inclusion_open',  'perc_inte_neg_emo',  'num_code_comments_con',  'friday_effect',  'test_churn_open',  'other_comment',  'perc_contrib_pos_emo',  'integrator_availability',  'churn_deletion_open']\n",
    "rejected_data_cleaned = rejected_data[[*features, 'contrib_gender']].dropna()\n",
    "X = rejected_data_cleaned[features]\n",
    "y = rejected_data_cleaned['contrib_gender']"
   ]
  },
  {
   "cell_type": "code",
   "execution_count": null,
   "id": "c008d55b-ef39-4c94-b6fc-3139e8753e03",
   "metadata": {},
   "outputs": [],
   "source": [
    "rejected_data_cleaned.shape"
   ]
  },
  {
   "cell_type": "code",
   "execution_count": null,
   "id": "f6ca6d4d-c7f2-4368-863f-07baba90a0d3",
   "metadata": {},
   "outputs": [],
   "source": [
    "# split into train test val split\n",
    "train_ratio = 0.70\n",
    "test_ratio = 0.20\n",
    "val_ratio = 0.10\n",
    "\n",
    "X_train, X_test, y_train, y_test = train_test_split(X, y, test_size=1-train_ratio)\n",
    "X_val, X_test, y_val, y_test = train_test_split(X_test, y_test, test_size=test_ratio/(val_ratio+test_ratio))"
   ]
  },
  {
   "cell_type": "code",
   "execution_count": null,
   "id": "c881f63c-a256-40a5-95a8-a6f9875ce801",
   "metadata": {},
   "outputs": [],
   "source": [
    "# train the random forest classifier model on the training data\n",
    "clf = RandomForestClassifier(n_estimators=100, random_state=42)\n",
    "clf = clf.fit(X_train, y_train)\n",
    "clf.score(X_test, y_test)"
   ]
  }
 ],
 "metadata": {
  "kernelspec": {
   "display_name": "Python 3",
   "language": "python",
   "name": "python3"
  },
  "language_info": {
   "codemirror_mode": {
    "name": "ipython",
    "version": 3
   },
   "file_extension": ".py",
   "mimetype": "text/x-python",
   "name": "python",
   "nbconvert_exporter": "python",
   "pygments_lexer": "ipython3",
   "version": "3.11.4"
  }
 },
 "nbformat": 4,
 "nbformat_minor": 5
}
